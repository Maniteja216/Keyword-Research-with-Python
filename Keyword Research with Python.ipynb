{
 "cells": [
  {
   "cell_type": "code",
   "execution_count": 2,
   "metadata": {},
   "outputs": [],
   "source": [
    "import pandas as pd\n",
    "from pytrends.request import TrendReq\n",
    "import matplotlib.pyplot as plt\n",
    "trends = TrendReq()"
   ]
  },
  {
   "cell_type": "code",
   "execution_count": 12,
   "metadata": {},
   "outputs": [
    {
     "name": "stdout",
     "output_type": "stream",
     "text": [
      "                        Data Science\n",
      "geoName                             \n",
      "Vatican City                       0\n",
      "Bermuda                            0\n",
      "Ireland                           36\n",
      "Austria                           16\n",
      "Bolivia                            0\n",
      "Brunei                             0\n",
      "Turks & Caicos Islands             0\n",
      "Faroe Islands                      0\n",
      "St. Barthélemy                     0\n",
      "Iceland                            0\n"
     ]
    }
   ],
   "source": [
    "# Keyword Interest By Region\n",
    "trends.build_payload(kw_list=[\"Data Science\"])\n",
    "data = trends.interest_by_region()\n",
    "print(data.sample(10))"
   ]
  },
  {
   "cell_type": "code",
   "execution_count": 13,
   "metadata": {},
   "outputs": [
    {
     "data": {
      "image/png": "[encoded data removed]",
      "text/plain": [
       "<Figure size 720x576 with 1 Axes>"
      ]
     },
     "metadata": {
      "needs_background": "light"
     },
     "output_type": "display_data"
    }
   ],
   "source": [
    "df = data.sample(15)\n",
    "df.reset_index().plot(x=\"geoName\", y=\"Data Science\", figsize=(10,8), kind=\"bar\")\n",
    "plt.show()"
   ]
  },
  {
   "cell_type": "code",
   "execution_count": 7,
   "metadata": {},
   "outputs": [
    {
     "name": "stdout",
     "output_type": "stream",
     "text": [
      "                          0\n",
      "0      Inter Milan vs Milan\n",
      "1     West Brom vs Man City\n",
      "2    Southampton vs Arsenal\n",
      "3                      Etsy\n",
      "4  South Africa vs Pakistan\n",
      "5              Aaj tak live\n",
      "6                     FAU-G\n",
      "7    Afghanistan vs Ireland\n",
      "8                Deep Sidhu\n",
      "9             Kisan andolan\n"
     ]
    }
   ],
   "source": [
    "# Keyword Research with Python for Daily Search Trends\n",
    "data = trends.trending_searches(pn=\"india\")\n",
    "print(data.head(10))"
   ]
  },
  {
   "cell_type": "code",
   "execution_count": 11,
   "metadata": {},
   "outputs": [
    {
     "name": "stdout",
     "output_type": "stream",
     "text": [
      "          mid                              title                  type\n",
      "0    /m/01t6b                                  C  Programming language\n",
      "1  /m/025sbhf               Software development                 Topic\n",
      "2    /m/01mf_               Computer programming                 Topic\n",
      "3     /m/0z5n  Application programming interface      Kind of software\n",
      "4    /m/05prj        Object-oriented programming  Programming paradigm\n"
     ]
    }
   ],
   "source": [
    "# Google Keyword Suggestion\n",
    "keyword = trends.suggestions(keyword=\"Programming\")\n",
    "data = pd.DataFrame(keyword)\n",
    "print(data.head())"
   ]
  },
  {
   "cell_type": "code",
   "execution_count": null,
   "metadata": {},
   "outputs": [],
   "source": []
  }
 ],
 "metadata": {
  "kernelspec": {
   "display_name": "Python 3",
   "language": "python",
   "name": "python3"
  },
  "language_info": {
   "codemirror_mode": {
    "name": "ipython",
    "version": 3
   },
   "file_extension": ".py",
   "mimetype": "text/x-python",
   "name": "python",
   "nbconvert_exporter": "python",
   "pygments_lexer": "ipython3",
   "version": "3.8.5"
  }
 },
 "nbformat": 4,
 "nbformat_minor": 4
}
